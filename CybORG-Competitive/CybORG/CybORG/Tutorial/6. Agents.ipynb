{
 "cells": [
  {
   "cell_type": "markdown",
   "metadata": {},
   "source": [
    "### Red Agents"
   ]
  },
  {
   "cell_type": "markdown",
   "metadata": {},
   "source": [
    "Scenario 1b has two rules-based Red Agents. The first is our good friend the B_lineAgent. This represents an actor who has inside information, so is able to beeline straight towards the OpServer."
   ]
  },
  {
   "cell_type": "code",
   "execution_count": 2,
   "metadata": {},
   "outputs": [
    {
     "ename": "TypeError",
     "evalue": "step() got an unexpected keyword argument 'action'",
     "output_type": "error",
     "traceback": [
      "\u001b[1;31m---------------------------------------------------------------------------\u001b[0m",
      "\u001b[1;31mTypeError\u001b[0m                                 Traceback (most recent call last)",
      "Cell \u001b[1;32mIn[2], line 20\u001b[0m\n\u001b[0;32m     18\u001b[0m \u001b[38;5;28;01mfor\u001b[39;00m i \u001b[38;5;129;01min\u001b[39;00m \u001b[38;5;28mrange\u001b[39m(\u001b[38;5;241m16\u001b[39m):\n\u001b[0;32m     19\u001b[0m     action \u001b[38;5;241m=\u001b[39m agent\u001b[38;5;241m.\u001b[39mget_action(obs,action_space)\n\u001b[1;32m---> 20\u001b[0m     results \u001b[38;5;241m=\u001b[39m \u001b[43menv\u001b[49m\u001b[38;5;241;43m.\u001b[39;49m\u001b[43mstep\u001b[49m\u001b[43m(\u001b[49m\u001b[43maction\u001b[49m\u001b[38;5;241;43m=\u001b[39;49m\u001b[43maction\u001b[49m\u001b[43m,\u001b[49m\u001b[43magent\u001b[49m\u001b[38;5;241;43m=\u001b[39;49m\u001b[38;5;124;43m'\u001b[39;49m\u001b[38;5;124;43mRed\u001b[39;49m\u001b[38;5;124;43m'\u001b[39;49m\u001b[43m)\u001b[49m\n\u001b[0;32m     21\u001b[0m     obs \u001b[38;5;241m=\u001b[39m results\u001b[38;5;241m.\u001b[39mobservation\n\u001b[0;32m     23\u001b[0m     \u001b[38;5;28mprint\u001b[39m(action)\n",
      "\u001b[1;31mTypeError\u001b[0m: step() got an unexpected keyword argument 'action'"
     ]
    }
   ],
   "source": [
    "import inspect\n",
    "from pprint import pprint\n",
    "from CybORG import CybORG\n",
    "from CybORG.Agents import *\n",
    "from CybORG.Shared.Actions import *\n",
    "\n",
    "path = str(inspect.getfile(CybORG))\n",
    "path = path[:-10] + '/Shared/Scenarios/Scenario2.yaml'\n",
    "\n",
    "env = CybORG(path,'sim')\n",
    "\n",
    "agent = B_lineAgent()\n",
    "\n",
    "results = env.reset('Red')\n",
    "obs = results.observation\n",
    "action_space = results.action_space\n",
    "\n",
    "for i in range(16):\n",
    "    action = agent.get_action(obs,action_space)\n",
    "    results = env.step(action=action,agent='Red')\n",
    "    obs = results.observation\n",
    "    \n",
    "    print(action)"
   ]
  },
  {
   "cell_type": "markdown",
   "metadata": {},
   "source": [
    "This agent runs along a predetermined path to the Op_Server, but is smart enough able to recover its position if interrupted. We can see below after Blue Team restores some hosts, the agent works out where the error in and re-exploits its way to the Op_Server."
   ]
  },
  {
   "cell_type": "code",
   "execution_count": 2,
   "metadata": {},
   "outputs": [
    {
     "name": "stdout",
     "output_type": "stream",
     "text": [
      "Impact Op_Server0\n",
      "Success: FALSE\n",
      "PrivilegeEscalate Op_Server0\n",
      "Success: FALSE\n",
      "ExploitRemoteService 10.0.183.147\n",
      "Success: FALSE\n",
      "ExploitRemoteService 10.0.50.38\n",
      "Success: TRUE\n",
      "PrivilegeEscalate Enterprise2\n",
      "Success: TRUE\n",
      "DiscoverNetworkServices 10.0.183.147\n",
      "Success: TRUE\n",
      "ExploitRemoteService 10.0.183.147\n",
      "Success: TRUE\n",
      "PrivilegeEscalate Op_Server0\n",
      "Success: TRUE\n",
      "Impact Op_Server0\n",
      "Success: TRUE\n",
      "Impact Op_Server0\n",
      "Success: TRUE\n",
      "Impact Op_Server0\n",
      "Success: TRUE\n",
      "Impact Op_Server0\n",
      "Success: TRUE\n"
     ]
    }
   ],
   "source": [
    "action = Restore(hostname='Op_Server0',session=0,agent='Blue')\n",
    "env.step(action=action,agent='Blue')\n",
    "\n",
    "action = Restore(hostname='Enterprise2',session=0,agent='Blue')\n",
    "env.step(action=action,agent='Blue')\n",
    "\n",
    "action = Restore(hostname='Enterprise1',session=0,agent='Blue')\n",
    "env.step(action=action,agent='Blue')\n",
    "\n",
    "for i in range(12):\n",
    "    action = agent.get_action(obs,action_space)\n",
    "    results = env.step(action=action,agent='Red')\n",
    "    obs = results.observation\n",
    "            \n",
    "    print(action)\n",
    "    print('Success:',obs['success'])"
   ]
  },
  {
   "cell_type": "markdown",
   "metadata": {},
   "source": [
    "The other red agent is the MeanderAgent. This performs a breadth first search on all known hosts, scanning each one in turn, before attempting a mix of exploit and privilege escalate on the rest. This is an extremely slow agent in contrast to the laser-focussed B_lineAgent."
   ]
  },
  {
   "cell_type": "code",
   "execution_count": 3,
   "metadata": {},
   "outputs": [
    {
     "name": "stdout",
     "output_type": "stream",
     "text": [
      "DiscoverRemoteSystems 10.0.132.32/28\n",
      "DiscoverNetworkServices 10.0.132.35\n",
      "DiscoverNetworkServices 10.0.132.34\n",
      "DiscoverNetworkServices 10.0.132.45\n",
      "DiscoverNetworkServices 10.0.132.44\n",
      "DiscoverNetworkServices 10.0.132.41\n",
      "PrivilegeEscalate User0\n",
      "ExploitRemoteService 10.0.132.35\n",
      "ExploitRemoteService 10.0.132.34\n",
      "PrivilegeEscalate User1\n",
      "DiscoverNetworkServices 10.0.145.19\n",
      "ExploitRemoteService 10.0.145.19\n",
      "PrivilegeEscalate Enterprise1\n",
      "DiscoverRemoteSystems 10.0.145.16/28\n",
      "DiscoverNetworkServices 10.0.145.23\n",
      "DiscoverNetworkServices 10.0.145.21\n",
      "DiscoverNetworkServices 10.0.145.25\n",
      "ExploitRemoteService 10.0.145.23\n",
      "PrivilegeEscalate Enterprise1\n",
      "PrivilegeEscalate User0\n",
      "PrivilegeEscalate User1\n",
      "ExploitRemoteService 10.0.145.21\n",
      "PrivilegeEscalate Enterprise0\n",
      "ExploitRemoteService 10.0.145.25\n",
      "PrivilegeEscalate Enterprise2\n",
      "DiscoverNetworkServices 10.0.170.155\n",
      "ExploitRemoteService 10.0.170.155\n",
      "PrivilegeEscalate Op_Server0\n",
      "DiscoverRemoteSystems 10.0.170.144/28\n",
      "DiscoverNetworkServices 10.0.170.145\n",
      "DiscoverNetworkServices 10.0.170.157\n",
      "DiscoverNetworkServices 10.0.170.156\n",
      "ExploitRemoteService 10.0.170.145\n",
      "PrivilegeEscalate Op_Host0\n",
      "ExploitRemoteService 10.0.170.157\n",
      "PrivilegeEscalate Op_Host1\n",
      "ExploitRemoteService 10.0.170.156\n",
      "PrivilegeEscalate Op_Host2\n",
      "ExploitRemoteService 10.0.132.45\n",
      "PrivilegeEscalate User2\n",
      "ExploitRemoteService 10.0.132.44\n",
      "PrivilegeEscalate User3\n",
      "ExploitRemoteService 10.0.132.41\n",
      "PrivilegeEscalate User4\n",
      "Impact Op_Server0\n",
      "Impact Op_Server0\n"
     ]
    }
   ],
   "source": [
    "agent = RedMeanderAgent()\n",
    "\n",
    "results = env.reset('Red')\n",
    "obs = results.observation\n",
    "action_space = results.action_space\n",
    "\n",
    "for i in range(46):\n",
    "    action = agent.get_action(obs,action_space)\n",
    "    results = env.step(action=action,agent='Red')\n",
    "    obs = results.observation\n",
    "    \n",
    "    print(action)"
   ]
  },
  {
   "cell_type": "markdown",
   "metadata": {},
   "source": [
    "The Meander Agent is also able to recover from Blue's disruption."
   ]
  },
  {
   "cell_type": "code",
   "execution_count": 4,
   "metadata": {},
   "outputs": [
    {
     "name": "stdout",
     "output_type": "stream",
     "text": [
      "Impact Op_Server0\n",
      "ExploitRemoteService 10.0.170.155\n",
      "PrivilegeEscalate Enterprise0\n",
      "PrivilegeEscalate Enterprise1\n",
      "PrivilegeEscalate Enterprise2\n",
      "PrivilegeEscalate Op_Host0\n",
      "PrivilegeEscalate Op_Host1\n",
      "PrivilegeEscalate Op_Host2\n",
      "PrivilegeEscalate Op_Server0\n",
      "PrivilegeEscalate User0\n",
      "PrivilegeEscalate User1\n",
      "PrivilegeEscalate User2\n",
      "PrivilegeEscalate User3\n",
      "PrivilegeEscalate User4\n",
      "ExploitRemoteService 10.0.145.21\n",
      "PrivilegeEscalate Enterprise0\n",
      "ExploitRemoteService 10.0.145.19\n",
      "PrivilegeEscalate Enterprise1\n",
      "ExploitRemoteService 10.0.145.25\n",
      "PrivilegeEscalate Enterprise0\n",
      "PrivilegeEscalate Enterprise1\n",
      "PrivilegeEscalate Enterprise2\n",
      "PrivilegeEscalate Op_Host0\n",
      "PrivilegeEscalate Op_Host1\n"
     ]
    }
   ],
   "source": [
    "action = Restore(hostname='Op_Server0',session=0,agent='Blue')\n",
    "env.step(action=action,agent='Blue')\n",
    "\n",
    "action = Restore(hostname='Enterprise2',session=0,agent='Blue')\n",
    "env.step(action=action,agent='Blue')\n",
    "\n",
    "action = Restore(hostname='Enterprise1',session=0,agent='Blue')\n",
    "env.step(action=action,agent='Blue')\n",
    "\n",
    "action = Restore(hostname='Enterprise0',session=0,agent='Blue')\n",
    "env.step(action=action,agent='Blue')\n",
    "\n",
    "for i in range(24):\n",
    "    action = agent.get_action(obs,action_space)\n",
    "    results = env.step(action=action,agent='Red')\n",
    "    obs = results.observation\n",
    "    print(env.get_last_action('Red'))"
   ]
  },
  {
   "cell_type": "markdown",
   "metadata": {},
   "source": [
    "### Blue Agents"
   ]
  },
  {
   "cell_type": "markdown",
   "metadata": {},
   "source": [
    "The BlueReactRemoveAgent will wait until it sees suspicious activity, before using remove on all the hosts it has flagged. However, due to the 5% change that Red's exploit is missed, Red will always eventually get to the Op_Server."
   ]
  },
  {
   "cell_type": "code",
   "execution_count": 5,
   "metadata": {},
   "outputs": [
    {
     "name": "stdout",
     "output_type": "stream",
     "text": [
      "Monitor\n",
      "Monitor\n",
      "Monitor\n",
      "Remove User1\n",
      "Monitor\n",
      "Monitor\n",
      "Monitor\n",
      "Monitor\n",
      "Monitor\n",
      "Monitor\n",
      "Remove Enterprise2\n",
      "Monitor\n"
     ]
    }
   ],
   "source": [
    "env = CybORG(path,'sim',agents={'Red':B_lineAgent})\n",
    "\n",
    "agent = BlueReactRemoveAgent()\n",
    "\n",
    "results = env.reset('Blue')\n",
    "obs = results.observation\n",
    "action_space = results.action_space\n",
    "\n",
    "for i in range(12):\n",
    "    action = agent.get_action(obs,action_space)\n",
    "    results = env.step(action=action,agent='Blue')\n",
    "    obs = results.observation\n",
    "    print(env.get_last_action('Blue'))"
   ]
  },
  {
   "cell_type": "markdown",
   "metadata": {},
   "source": [
    "The BlueReactRestoreAgent is the same as the React agent above, but uses the Restore action."
   ]
  },
  {
   "cell_type": "code",
   "execution_count": 6,
   "metadata": {},
   "outputs": [
    {
     "name": "stdout",
     "output_type": "stream",
     "text": [
      "Monitor\n",
      "Monitor\n",
      "Monitor\n",
      "Restore User1\n",
      "Monitor\n",
      "Restore User1\n",
      "Monitor\n",
      "Restore User1\n",
      "Monitor\n",
      "Restore User1\n",
      "Monitor\n",
      "Restore User1\n"
     ]
    }
   ],
   "source": [
    "agent = BlueReactRestoreAgent()\n",
    "\n",
    "results = env.reset('Blue')\n",
    "obs = results.observation\n",
    "action_space = results.action_space\n",
    "\n",
    "for i in range(12):\n",
    "    action = agent.get_action(obs,action_space)\n",
    "    results = env.step(action=action,agent='Blue')\n",
    "    obs = results.observation\n",
    "    print(env.get_last_action('Blue'))"
   ]
  },
  {
   "cell_type": "markdown",
   "metadata": {},
   "source": [
    "### Green Agent"
   ]
  },
  {
   "cell_type": "markdown",
   "metadata": {},
   "source": [
    "An important part of CybORG Scenario1b is the Green agent, which represents the users on the network. The Green Agent is very simple, it only performs a scanning action on random hosts some of the time. This is only visible by Blue Agent."
   ]
  },
  {
   "cell_type": "code",
   "execution_count": 7,
   "metadata": {},
   "outputs": [
    {
     "name": "stdout",
     "output_type": "stream",
     "text": [
      "Sleep\n",
      "Sleep\n",
      "GreenPortScan\n",
      "GreenPortScan\n",
      "Sleep\n",
      "GreenPortScan\n",
      "GreenPortScan\n",
      "GreenPortScan\n",
      "GreenPortScan\n",
      "GreenPortScan\n",
      "GreenPortScan\n",
      "GreenPortScan\n"
     ]
    }
   ],
   "source": [
    "agent = GreenAgent()\n",
    "\n",
    "results = env.reset('Green')\n",
    "obs = results.observation\n",
    "action_space = results.action_space\n",
    "\n",
    "for i in range(12):\n",
    "    print(agent.get_action(obs,action_space))"
   ]
  },
  {
   "cell_type": "markdown",
   "metadata": {},
   "source": [
    "### Keyboard Agent"
   ]
  },
  {
   "cell_type": "markdown",
   "metadata": {},
   "source": [
    "The KeyboardAgent allows a human user to manually choose actions. This is useful for getting an intuition for the scenario."
   ]
  },
  {
   "cell_type": "code",
   "execution_count": 1,
   "metadata": {},
   "outputs": [
    {
     "ename": "NameError",
     "evalue": "name 'CybORG' is not defined",
     "output_type": "error",
     "traceback": [
      "\u001b[1;31m---------------------------------------------------------------------------\u001b[0m",
      "\u001b[1;31mNameError\u001b[0m                                 Traceback (most recent call last)",
      "Cell \u001b[1;32mIn[1], line 3\u001b[0m\n\u001b[0;32m      1\u001b[0m \u001b[38;5;28;01mfrom\u001b[39;00m \u001b[38;5;21;01mCybORG\u001b[39;00m\u001b[38;5;21;01m.\u001b[39;00m\u001b[38;5;21;01mAgents\u001b[39;00m\u001b[38;5;21;01m.\u001b[39;00m\u001b[38;5;21;01mWrappers\u001b[39;00m \u001b[38;5;28;01mimport\u001b[39;00m RedTableWrapper\n\u001b[1;32m----> 3\u001b[0m cyborg \u001b[38;5;241m=\u001b[39m \u001b[43mCybORG\u001b[49m(path, \u001b[38;5;124m'\u001b[39m\u001b[38;5;124msim\u001b[39m\u001b[38;5;124m'\u001b[39m,agents\u001b[38;5;241m=\u001b[39m{\u001b[38;5;124m'\u001b[39m\u001b[38;5;124mBlue\u001b[39m\u001b[38;5;124m'\u001b[39m:BlueMonitorAgent})\n\u001b[0;32m      4\u001b[0m env \u001b[38;5;241m=\u001b[39m RedTableWrapper(env\u001b[38;5;241m=\u001b[39mcyborg, output_mode\u001b[38;5;241m=\u001b[39m\u001b[38;5;124m'\u001b[39m\u001b[38;5;124mtable\u001b[39m\u001b[38;5;124m'\u001b[39m)\n\u001b[0;32m      6\u001b[0m agent \u001b[38;5;241m=\u001b[39m KeyboardAgent()\n",
      "\u001b[1;31mNameError\u001b[0m: name 'CybORG' is not defined"
     ]
    }
   ],
   "source": [
    "from CybORG.Agents.Wrappers import RedTableWrapper\n",
    "\n",
    "cyborg = CybORG(path, 'sim',agents={'Blue':BlueMonitorAgent})\n",
    "env = RedTableWrapper(env=cyborg, output_mode='table')\n",
    "\n",
    "agent = KeyboardAgent()\n",
    "\n",
    "results = env.reset('Red')\n",
    "obs = results.observation\n",
    "action_space = results.action_space\n",
    "\n",
    "for i in range(100):\n",
    "    print(obs)\n",
    "    action = agent.get_action(obs,action_space)\n",
    "    results = env.step(action=action,agent='Red')\n",
    "    obs = results.observation"
   ]
  },
  {
   "cell_type": "code",
   "execution_count": null,
   "metadata": {},
   "outputs": [],
   "source": []
  }
 ],
 "metadata": {
  "kernelspec": {
   "display_name": "Python 3 (ipykernel)",
   "language": "python",
   "name": "python3"
  },
  "language_info": {
   "codemirror_mode": {
    "name": "ipython",
    "version": 3
   },
   "file_extension": ".py",
   "mimetype": "text/x-python",
   "name": "python",
   "nbconvert_exporter": "python",
   "pygments_lexer": "ipython3",
   "version": "3.8.11"
  }
 },
 "nbformat": 4,
 "nbformat_minor": 4
}
